{
  "nbformat": 4,
  "nbformat_minor": 0,
  "metadata": {
    "kernelspec": {
      "display_name": "Python 3.6",
      "language": "python",
      "name": "python36"
    },
    "language_info": {
      "codemirror_mode": {
        "name": "ipython",
        "version": 3
      },
      "file_extension": ".py",
      "mimetype": "text/x-python",
      "name": "python",
      "nbconvert_exporter": "python",
      "pygments_lexer": "ipython3",
      "version": "3.6.3"
    },
    "colab": {
      "name": "Classification.ipynb",
      "provenance": []
    }
  },
  "cells": [
    {
      "cell_type": "markdown",
      "metadata": {
        "id": "soC5IdYyeY3q"
      },
      "source": [
        "# Applications of Classification\n",
        "\n",
        "In this lab you will perform **two-class classification** using **logistic regression**. A classifier is a machine learning model that separates the **label** into categories or **classes**. In other words, classification models are **supervised** machine learning models which predict a categorical label.\n",
        "\n",
        "The German Credit bank customer data is used to determine if a particular person is a good or bad credit risk. Thus, credit risk of the customer is the classes you must predict. In this case, the cost to the bank of issuing a loan to a bad risk customer is five times that of denying a loan to a good customer. This fact will become important when evaluating the performance of the model. \n",
        "\n",
        "Logistic regression is a linear model but with a nonlinear response. The response is binary, $\\{ 0,1 \\}$, or positive and negative. The response is the prediction of the category. \n",
        "\n",
        "In this lab you will learn the following: \n",
        "-  How to prepare data for classification models using scikit-learn. \n",
        "-  Constructing a classification model using scikit-learn.\n",
        "-  Evaluating the performance of the classification model. \n",
        "-  Using techniques such as reweighting the labels and changing the decision threshold to change the trade-off between false positive and false negative error rates. "
      ]
    },
    {
      "cell_type": "markdown",
      "metadata": {
        "id": "fqzNFI5LeY3v"
      },
      "source": [
        "## Basics of logistic regression\n",
        "\n",
        "In this section some basic properties of the logistic regression model are presented. \n",
        "\n",
        "First, execute the code in the cell below to load the packages required  to run this notebook. "
      ]
    },
    {
      "cell_type": "code",
      "metadata": {
        "colab": {
          "base_uri": "https://localhost:8080/"
        },
        "id": "yj4vQ8VDespN",
        "outputId": "afafc66a-740a-4e7d-ba27-9c540401b746"
      },
      "source": [
        "from google.colab import drive\n",
        "drive.mount('/content/drive')\n",
        "root = '/content/drive/My Drive/Colab Notebooks/' #default for all\n",
        "\n",
        "path = root+'Module4 - Regression/'#(file location in gdrive)"
      ],
      "execution_count": null,
      "outputs": [
        {
          "output_type": "stream",
          "text": [
            "Mounted at /content/drive\n"
          ],
          "name": "stdout"
        }
      ]
    },
    {
      "cell_type": "code",
      "metadata": {
        "id": "A6_dTS6DeY3w"
      },
      "source": [
        "import pandas as pd\n",
        "import matplotlib.pyplot as plt\n",
        "import seaborn as sns\n",
        "import numpy as np\n",
        "import numpy.random as nr\n",
        "import math\n",
        "from sklearn import preprocessing\n",
        "import sklearn.model_selection as ms\n",
        "from sklearn import linear_model\n",
        "import sklearn.metrics as sklm\n",
        "\n",
        "%matplotlib inline"
      ],
      "execution_count": null,
      "outputs": []
    },
    {
      "cell_type": "markdown",
      "metadata": {
        "id": "7Ht6d4v0eY3w"
      },
      "source": [
        "Logistic regression is widely used as a classification model. Logistic regression is linear model, with a binary response, `{False, True}` or `{0, 1}`. You can think of this response as having a Binomial distribution. For linear regression the response is just, well, linear. Logistic regression is a linear regression model with a nonlinear output. The response of the linear model is transformed or 'squashed' to values close to 0 and 1 using a **sigmoidal function**, also known as the **logistic function**. The result of this transformation is a response which is the log likelihood for each of the two classes. \n",
        "\n",
        "The sigmoidal or logistic function can be expressed as follows:\n",
        "\n",
        "$$f(x) = \\frac{1}{1 + e^{-\\kappa(x - x_0)}} \\\\\n",
        "\\kappa = steepness$$\n",
        "\n",
        "Execute the code in the cell below to compute and plot an example of the logistic function."
      ]
    },
    {
      "cell_type": "code",
      "metadata": {
        "scrolled": true,
        "colab": {
          "base_uri": "https://localhost:8080/",
          "height": 312
        },
        "id": "_0ctFS1qeY3x",
        "outputId": "20e1d337-d923-43c5-d61b-a7cc5fec9979"
      },
      "source": [
        "xseq = np.arange(-7, 7, 0.1)\n",
        "\n",
        "logistic = [math.exp(v)/(1 + math.exp(v)) for v in xseq]\n",
        "\n",
        "plt.plot(xseq, logistic, color = 'red')\n",
        "plt.plot([-7,7], [0.5,0.5], color = 'blue')\n",
        "plt.plot([0,0], [0,1], color = 'blue')\n",
        "plt.title('Logistic function for two-class classification')\n",
        "plt.ylabel('log likelihood')\n",
        "plt.xlabel('Value of output from linear regression')"
      ],
      "execution_count": null,
      "outputs": [
        {
          "output_type": "execute_result",
          "data": {
            "text/plain": [
              "Text(0.5, 0, 'Value of output from linear regression')"
            ]
          },
          "metadata": {
            "tags": []
          },
          "execution_count": 26
        },
        {
          "output_type": "display_data",
          "data": {
            "image/png": "[encoded data removed]",
            "text/plain": [
              "<Figure size 432x288 with 1 Axes>"
            ]
          },
          "metadata": {
            "tags": [],
            "needs_background": "light"
          }
        }
      ]
    },
    {
      "cell_type": "markdown",
      "metadata": {
        "id": "LNLb5qVieY3x"
      },
      "source": [
        "Let's make this a bit more concrete with a simple example. Say we have a linear model:\n",
        "\n",
        "$$\\hat{y} = \\beta_0 + \\beta_1\\ x$$\n",
        "\n",
        "Now, depending on the value of $\\hat{y}$ we want to classify the output from a logistic regression model as either `0` or `1`. Substituting the linear model into the logistic function creates the following expression:\n",
        "\n",
        "$$F(\\hat{y}) = \\frac{1}{1 + e^{-\\kappa(\\beta_0 + \\beta_1\\ x)}} $$\n",
        "\n",
        "In this way we transform the continuous output of the linear model defined on $-\\infty \\le \\hat{y} \\le \\infty$ to a binary response, $0 \\le F(\\hat{y}) \\le 1$."
      ]
    },
    {
      "cell_type": "markdown",
      "metadata": {
        "id": "YpFcEC7CeY3x"
      },
      "source": [
        "## Load and prepare the data set\n",
        "\n",
        "As a first step, load the dataset. The code in the cell below loads the dataset and assigns human-readable names to the columns. Execute this code and examine the result. \n",
        "\n",
        "You should by now be very familiar with the next few sections as we have covered them in detail in previous labs."
      ]
    },
    {
      "cell_type": "code",
      "metadata": {
        "colab": {
          "base_uri": "https://localhost:8080/",
          "height": 400
        },
        "id": "snb6RvlTeY3y",
        "outputId": "24205135-ecf9-4fd9-e081-3a7064e5ec53"
      },
      "source": [
        "from google.colab import drive\n",
        "drive.mount('/content/drive')\n",
        "root='/content/drive/My Drive/Colab Notebooks/'\n",
        "path=root\n",
        "\n",
        "credit = pd.read_csv(path+'German_Credit_Preped.csv')\n",
        "print(credit.shape)\n",
        "credit.head()"
      ],
      "execution_count": null,
      "outputs": [
        {
          "output_type": "stream",
          "text": [
            "Drive already mounted at /content/drive; to attempt to forcibly remount, call drive.mount(\"/content/drive\", force_remount=True).\n",
            "(1000, 22)\n"
          ],
          "name": "stdout"
        },
        {
          "output_type": "execute_result",
          "data": {
            "text/html": [
              "<div>\n",
              "<style scoped>\n",
              "    .dataframe tbody tr th:only-of-type {\n",
              "        vertical-align: middle;\n",
              "    }\n",
              "\n",
              "    .dataframe tbody tr th {\n",
              "        vertical-align: top;\n",
              "    }\n",
              "\n",
              "    .dataframe thead th {\n",
              "        text-align: right;\n",
              "    }\n",
              "</style>\n",
              "<table border=\"1\" class=\"dataframe\">\n",
              "  <thead>\n",
              "    <tr style=\"text-align: right;\">\n",
              "      <th></th>\n",
              "      <th>customer_id</th>\n",
              "      <th>checking_account_status</th>\n",
              "      <th>loan_duration_mo</th>\n",
              "      <th>credit_history</th>\n",
              "      <th>purpose</th>\n",
              "      <th>loan_amount</th>\n",
              "      <th>savings_account_balance</th>\n",
              "      <th>time_employed_yrs</th>\n",
              "      <th>payment_pcnt_income</th>\n",
              "      <th>gender_status</th>\n",
              "      <th>other_signators</th>\n",
              "      <th>time_in_residence</th>\n",
              "      <th>property</th>\n",
              "      <th>age_yrs</th>\n",
              "      <th>other_credit_outstanding</th>\n",
              "      <th>home_ownership</th>\n",
              "      <th>number_loans</th>\n",
              "      <th>job_category</th>\n",
              "      <th>dependents</th>\n",
              "      <th>telephone</th>\n",
              "      <th>foreign_worker</th>\n",
              "      <th>bad_credit</th>\n",
              "    </tr>\n",
              "  </thead>\n",
              "  <tbody>\n",
              "    <tr>\n",
              "      <th>0</th>\n",
              "      <td>1122334</td>\n",
              "      <td>&lt; 0 DM</td>\n",
              "      <td>6</td>\n",
              "      <td>critical account - other non-bank loans</td>\n",
              "      <td>radio/television</td>\n",
              "      <td>1169</td>\n",
              "      <td>unknown/none</td>\n",
              "      <td>&gt;= 7 years</td>\n",
              "      <td>4</td>\n",
              "      <td>male-single</td>\n",
              "      <td>none</td>\n",
              "      <td>4</td>\n",
              "      <td>real estate</td>\n",
              "      <td>67</td>\n",
              "      <td>none</td>\n",
              "      <td>own</td>\n",
              "      <td>2</td>\n",
              "      <td>skilled</td>\n",
              "      <td>1</td>\n",
              "      <td>yes</td>\n",
              "      <td>yes</td>\n",
              "      <td>0</td>\n",
              "    </tr>\n",
              "    <tr>\n",
              "      <th>1</th>\n",
              "      <td>6156361</td>\n",
              "      <td>0 - 200 DM</td>\n",
              "      <td>48</td>\n",
              "      <td>current loans paid</td>\n",
              "      <td>radio/television</td>\n",
              "      <td>5951</td>\n",
              "      <td>&lt; 100 DM</td>\n",
              "      <td>1 - 4 years</td>\n",
              "      <td>2</td>\n",
              "      <td>female-divorced/separated/married</td>\n",
              "      <td>none</td>\n",
              "      <td>2</td>\n",
              "      <td>real estate</td>\n",
              "      <td>22</td>\n",
              "      <td>none</td>\n",
              "      <td>own</td>\n",
              "      <td>1</td>\n",
              "      <td>skilled</td>\n",
              "      <td>1</td>\n",
              "      <td>none</td>\n",
              "      <td>yes</td>\n",
              "      <td>1</td>\n",
              "    </tr>\n",
              "    <tr>\n",
              "      <th>2</th>\n",
              "      <td>2051359</td>\n",
              "      <td>none</td>\n",
              "      <td>12</td>\n",
              "      <td>critical account - other non-bank loans</td>\n",
              "      <td>education</td>\n",
              "      <td>2096</td>\n",
              "      <td>&lt; 100 DM</td>\n",
              "      <td>4 - 7 years</td>\n",
              "      <td>2</td>\n",
              "      <td>male-single</td>\n",
              "      <td>none</td>\n",
              "      <td>3</td>\n",
              "      <td>real estate</td>\n",
              "      <td>49</td>\n",
              "      <td>none</td>\n",
              "      <td>own</td>\n",
              "      <td>1</td>\n",
              "      <td>unskilled-resident</td>\n",
              "      <td>2</td>\n",
              "      <td>none</td>\n",
              "      <td>yes</td>\n",
              "      <td>0</td>\n",
              "    </tr>\n",
              "    <tr>\n",
              "      <th>3</th>\n",
              "      <td>8740590</td>\n",
              "      <td>&lt; 0 DM</td>\n",
              "      <td>42</td>\n",
              "      <td>current loans paid</td>\n",
              "      <td>furniture/equipment</td>\n",
              "      <td>7882</td>\n",
              "      <td>&lt; 100 DM</td>\n",
              "      <td>4 - 7 years</td>\n",
              "      <td>2</td>\n",
              "      <td>male-single</td>\n",
              "      <td>guarantor</td>\n",
              "      <td>4</td>\n",
              "      <td>building society savings/life insurance</td>\n",
              "      <td>45</td>\n",
              "      <td>none</td>\n",
              "      <td>for free</td>\n",
              "      <td>1</td>\n",
              "      <td>skilled</td>\n",
              "      <td>2</td>\n",
              "      <td>none</td>\n",
              "      <td>yes</td>\n",
              "      <td>0</td>\n",
              "    </tr>\n",
              "    <tr>\n",
              "      <th>4</th>\n",
              "      <td>3924540</td>\n",
              "      <td>&lt; 0 DM</td>\n",
              "      <td>24</td>\n",
              "      <td>past payment delays</td>\n",
              "      <td>car (new)</td>\n",
              "      <td>4870</td>\n",
              "      <td>&lt; 100 DM</td>\n",
              "      <td>1 - 4 years</td>\n",
              "      <td>3</td>\n",
              "      <td>male-single</td>\n",
              "      <td>none</td>\n",
              "      <td>4</td>\n",
              "      <td>unknown-none</td>\n",
              "      <td>53</td>\n",
              "      <td>none</td>\n",
              "      <td>for free</td>\n",
              "      <td>2</td>\n",
              "      <td>skilled</td>\n",
              "      <td>2</td>\n",
              "      <td>none</td>\n",
              "      <td>yes</td>\n",
              "      <td>1</td>\n",
              "    </tr>\n",
              "  </tbody>\n",
              "</table>\n",
              "</div>"
            ],
            "text/plain": [
              "   customer_id checking_account_status  ...  foreign_worker bad_credit\n",
              "0      1122334                  < 0 DM  ...             yes          0\n",
              "1      6156361              0 - 200 DM  ...             yes          1\n",
              "2      2051359                    none  ...             yes          0\n",
              "3      8740590                  < 0 DM  ...             yes          0\n",
              "4      3924540                  < 0 DM  ...             yes          1\n",
              "\n",
              "[5 rows x 22 columns]"
            ]
          },
          "metadata": {
            "tags": []
          },
          "execution_count": 28
        }
      ]
    },
    {
      "cell_type": "code",
      "metadata": {
        "id": "AAtjVNrn_u0g"
      },
      "source": [
        ""
      ],
      "execution_count": null,
      "outputs": []
    },
    {
      "cell_type": "markdown",
      "metadata": {
        "id": "oo1cjacZeY3y"
      },
      "source": [
        "There are 22 columns, 1 customer identifier column, 20 features, plus a label column. These features represent information a bank might have on its customers. "
      ]
    },
    {
      "cell_type": "markdown",
      "metadata": {
        "id": "k9NPQK0deY3y"
      },
      "source": [
        "There is one other aspect of this data set which you should be aware of. The label has significant **class imbalance**. Class imbalance means that there are  unequal numbers of cases for the categories of the label. \n",
        "\n",
        "To examine the class imbalance in these data, execute the code in the cell below. "
      ]
    },
    {
      "cell_type": "code",
      "metadata": {
        "colab": {
          "base_uri": "https://localhost:8080/"
        },
        "id": "RaNEbNm-eY3z",
        "outputId": "d72d6567-fca0-4bf4-f5f0-6fc38e7cacc4"
      },
      "source": [
        "credit_counts = credit[['credit_history', 'bad_credit']].groupby('bad_credit').count()\n",
        "print(credit_counts)"
      ],
      "execution_count": null,
      "outputs": [
        {
          "output_type": "stream",
          "text": [
            "            credit_history\n",
            "bad_credit                \n",
            "0                      700\n",
            "1                      300\n"
          ],
          "name": "stdout"
        }
      ]
    },
    {
      "cell_type": "markdown",
      "metadata": {
        "id": "8212tCy5eY3z"
      },
      "source": [
        "Notice that only 30% of the cases have bad credit. This is not surprising, since a bank would typically retain customers with good credit. However, this imbalance will bias the training of any model. \n",
        "\n",
        "Before proceeding, answer **Question 1** on the course page."
      ]
    },
    {
      "cell_type": "markdown",
      "metadata": {
        "id": "yFj50dqneY3z"
      },
      "source": [
        "## Prepare data for scikit-learn model\n",
        "\n",
        "With the data prepared, it is time to create the numpy arrays required for the scikit-learn model. \n",
        "\n",
        "The code in the cell below creates a numpy array of the label values. Execute this code. "
      ]
    },
    {
      "cell_type": "code",
      "metadata": {
        "id": "XEvNZahueY3z"
      },
      "source": [
        "labels = np.array(credit['bad_credit'])"
      ],
      "execution_count": null,
      "outputs": []
    },
    {
      "cell_type": "markdown",
      "metadata": {
        "id": "gYqSJ3AaeY3z"
      },
      "source": [
        "Now, you need to create the numpy feature array or **model matrix**. As first step, the categorical variables need to be recoded as binary dummy variables. As discussed in another lesson this is a three step process:\n",
        "\n",
        "1. Encode the categorical string variables as integers.\n",
        "2. Transform the integer coded variables to dummy variables. \n",
        "3. Append each dummy coded categorical variable to the model matrix. \n",
        "\n",
        "Execute the code in the cell below to perform this processing and examine the results. "
      ]
    },
    {
      "cell_type": "code",
      "metadata": {
        "colab": {
          "base_uri": "https://localhost:8080/"
        },
        "id": "YIA_uV_QeY30",
        "outputId": "28a8594b-4346-4f6a-80c8-1dfcfd3aed74"
      },
      "source": [
        "def encode_string(cat_features):\n",
        "    ## First encode the strings to numeric categories\n",
        "    enc = preprocessing.LabelEncoder()\n",
        "    enc.fit(cat_features)\n",
        "    enc_cat_features = enc.transform(cat_features)\n",
        "    ## Now, apply one hot encoding\n",
        "    ohe = preprocessing.OneHotEncoder()\n",
        "    encoded = ohe.fit(enc_cat_features.reshape(-1,1))\n",
        "    return encoded.transform(enc_cat_features.reshape(-1,1)).toarray()\n",
        "\n",
        "categorical_columns = ['credit_history', 'purpose', 'gender_status', \n",
        "                       'time_in_residence', 'property']\n",
        "\n",
        "Features = encode_string(credit['checking_account_status'])\n",
        "for col in categorical_columns:\n",
        "    temp = encode_string(credit[col])\n",
        "    Features = np.concatenate([Features, temp], axis = 1)\n",
        "\n",
        "print(Features.shape)\n",
        "print(Features[:2, :])    "
      ],
      "execution_count": null,
      "outputs": [
        {
          "output_type": "stream",
          "text": [
            "(1000, 31)\n",
            "[[0. 1. 0. 0. 0. 1. 0. 0. 0. 0. 0. 0. 0. 0. 0. 0. 1. 0. 0. 0. 0. 0. 1. 0.\n",
            "  0. 0. 1. 0. 0. 1. 0.]\n",
            " [1. 0. 0. 0. 0. 0. 1. 0. 0. 0. 0. 0. 0. 0. 0. 0. 1. 0. 0. 1. 0. 0. 0. 0.\n",
            "  1. 0. 0. 0. 0. 1. 0.]]\n"
          ],
          "name": "stdout"
        }
      ]
    },
    {
      "cell_type": "markdown",
      "metadata": {
        "id": "IPgIilAKeY30"
      },
      "source": [
        "Next the numeric features must be concatenated to the numpy array by executing the code in the cell below. "
      ]
    },
    {
      "cell_type": "code",
      "metadata": {
        "colab": {
          "base_uri": "https://localhost:8080/"
        },
        "id": "otzBZsDjeY31",
        "outputId": "24d527de-4322-4258-d91c-6014bae19c8d"
      },
      "source": [
        "Features = np.concatenate([Features, np.array(credit[['loan_duration_mo', 'loan_amount', \n",
        "                            'payment_pcnt_income', 'age_yrs']])], axis = 1)\n",
        "print(Features.shape)\n",
        "print(Features[:2, :])   "
      ],
      "execution_count": null,
      "outputs": [
        {
          "output_type": "stream",
          "text": [
            "(1000, 35)\n",
            "[[0.000e+00 1.000e+00 0.000e+00 0.000e+00 0.000e+00 1.000e+00 0.000e+00\n",
            "  0.000e+00 0.000e+00 0.000e+00 0.000e+00 0.000e+00 0.000e+00 0.000e+00\n",
            "  0.000e+00 0.000e+00 1.000e+00 0.000e+00 0.000e+00 0.000e+00 0.000e+00\n",
            "  0.000e+00 1.000e+00 0.000e+00 0.000e+00 0.000e+00 1.000e+00 0.000e+00\n",
            "  0.000e+00 1.000e+00 0.000e+00 6.000e+00 1.169e+03 4.000e+00 6.700e+01]\n",
            " [1.000e+00 0.000e+00 0.000e+00 0.000e+00 0.000e+00 0.000e+00 1.000e+00\n",
            "  0.000e+00 0.000e+00 0.000e+00 0.000e+00 0.000e+00 0.000e+00 0.000e+00\n",
            "  0.000e+00 0.000e+00 1.000e+00 0.000e+00 0.000e+00 1.000e+00 0.000e+00\n",
            "  0.000e+00 0.000e+00 0.000e+00 1.000e+00 0.000e+00 0.000e+00 0.000e+00\n",
            "  0.000e+00 1.000e+00 0.000e+00 4.800e+01 5.951e+03 2.000e+00 2.200e+01]]\n"
          ],
          "name": "stdout"
        }
      ]
    },
    {
      "cell_type": "markdown",
      "metadata": {
        "id": "O70nqovaeY31"
      },
      "source": [
        "With the dummy variables the original 6 categorical features are now 31 dummy variables. With the 4 numeric features there are a total of 35. \n",
        "\n",
        "Now, answer **Question 2** on the course page."
      ]
    },
    {
      "cell_type": "markdown",
      "metadata": {
        "id": "HVROpm24eY31"
      },
      "source": [
        "You must split the cases into training and test data sets. This step is critical. If machine learning models are tested on the training data, the results will be both biased and overly optimistic.\n",
        "\n",
        "The code in the cell below performs the following processing:\n",
        "1. An index vector is Bernoulli sampled using the `train_test_split` function from the `model_selection` package of scikit-learn. \n",
        "2. The first column of the resulting index array contains the indices of the samples for the training cases. \n",
        "3. The second column of the resulting index array contains the indices of the samples for the test cases. \n",
        "\n",
        "Execute the code. "
      ]
    },
    {
      "cell_type": "code",
      "metadata": {
        "id": "ikuHtdWQeY31"
      },
      "source": [
        "## Randomly sample cases to create independent training and test data\n",
        "nr.seed(9988)\n",
        "indx = range(Features.shape[0])\n",
        "indx = ms.train_test_split(indx, test_size = 300)\n",
        "X_train = Features[indx[0],:]\n",
        "y_train = np.ravel(labels[indx[0]])\n",
        "X_test = Features[indx[1],:]\n",
        "y_test = np.ravel(labels[indx[1]])"
      ],
      "execution_count": null,
      "outputs": []
    },
    {
      "cell_type": "markdown",
      "metadata": {
        "id": "6ZvvIgzSeY31"
      },
      "source": [
        "There is just one more step in preparing this data. Numeric features must be rescaled so they have a similar range of values. Rescaling prevents features from having an undue influence on model training simply because then have a larger range of numeric variables.\n",
        "\n",
        "The code in the cell below uses the StanardScaler function from the Scikit Learn preprocessing package to Zscore scale the numeric features. Notice that the scaler is fit only on the training data. The trained scaler is these applied to the test data. Test data should always be scaled using the parameters from the training data.\n",
        "\n",
        "Execute this code."
      ]
    },
    {
      "cell_type": "code",
      "metadata": {
        "colab": {
          "base_uri": "https://localhost:8080/"
        },
        "id": "92RctRVjeY32",
        "outputId": "024786b7-7e1c-457a-aa74-600103c95fbe"
      },
      "source": [
        "scaler = preprocessing.StandardScaler().fit(X_train[:,:])\n",
        "X_train[:,:] = scaler.transform(X_train[:,:])\n",
        "X_test[:,:] = scaler.transform(X_test[:,:])\n",
        "X_train[:2,]"
      ],
      "execution_count": null,
      "outputs": [
        {
          "output_type": "execute_result",
          "data": {
            "text/plain": [
              "array([[ 1.66236003, -0.59274898, -0.25583004, -0.83854816, -0.22941573,\n",
              "         1.51719702, -1.06191317, -0.20789198, -0.28621065, -0.33333333,\n",
              "        -0.55975068, -0.32801667, -0.10050378, -0.23623492, -0.44337478,\n",
              "        -0.09298136,  1.54856652, -0.15776625, -0.10050378, -0.69728013,\n",
              "        -0.21160368, -0.3089687 ,  0.91766294, -0.37672929,  1.52752523,\n",
              "        -0.41299947, -0.86855395, -0.55754948, -0.69954392,  1.57562275,\n",
              "        -0.41536648,  1.53154035,  0.62707145, -0.86525095, -0.93382362],\n",
              "       [-0.60155441,  1.68705478, -0.25583004, -0.83854816, -0.22941573,\n",
              "        -0.65911018,  0.94169658, -0.20789198, -0.28621065, -0.33333333,\n",
              "        -0.55975068, -0.32801667, -0.10050378, -0.23623492,  2.25542823,\n",
              "        -0.09298136, -0.64575851, -0.15776625, -0.10050378,  1.43414384,\n",
              "        -0.21160368, -0.3089687 , -1.08972474, -0.37672929,  1.52752523,\n",
              "        -0.41299947, -0.86855395,  1.79356279, -0.69954392, -0.63466969,\n",
              "        -0.41536648,  0.27037074,  1.65067659, -1.75333844, -0.49523228]])"
            ]
          },
          "metadata": {
            "tags": []
          },
          "execution_count": 35
        }
      ]
    },
    {
      "cell_type": "markdown",
      "metadata": {
        "id": "Twx_9Vu4eY32"
      },
      "source": [
        "The four numeric features are now scaled. "
      ]
    },
    {
      "cell_type": "markdown",
      "metadata": {
        "id": "dnKnIuYkeY32"
      },
      "source": [
        "## Construct the logistic regression model\n",
        "\n",
        "Now, it is time to compute the logistic regression model. The code in the cell below does the following:\n",
        "1. Define a logistic regression model object using the `LogisticRegression` method from the scikit-learn `linear_model` package.\n",
        "2. Fit the linear model using the numpy arrays of the features and the labels for the training data set.\n",
        "\n",
        "Execute this code. "
      ]
    },
    {
      "cell_type": "code",
      "metadata": {
        "colab": {
          "base_uri": "https://localhost:8080/"
        },
        "id": "XrQpk7CReY33",
        "outputId": "1f414c5d-f0dc-405e-a41f-9fd86a9615df"
      },
      "source": [
        "logistic_mod = linear_model.LogisticRegression(max_iter=1000,random_state=1,penalty='l2') \n",
        "logistic_mod.fit(X_train, y_train)"
      ],
      "execution_count": null,
      "outputs": [
        {
          "output_type": "execute_result",
          "data": {
            "text/plain": [
              "LogisticRegression(C=1.0, class_weight=None, dual=False, fit_intercept=True,\n",
              "                   intercept_scaling=1, l1_ratio=None, max_iter=1000,\n",
              "                   multi_class='auto', n_jobs=None, penalty='l2',\n",
              "                   random_state=1, solver='lbfgs', tol=0.0001, verbose=0,\n",
              "                   warm_start=False)"
            ]
          },
          "metadata": {
            "tags": []
          },
          "execution_count": 43
        }
      ]
    },
    {
      "cell_type": "markdown",
      "metadata": {
        "id": "Q8uXfaRLeY33"
      },
      "source": [
        "The model has been computed. Notice that the configuration of the model object has been printed. In this case, only default settings are shown, since no arguments were given to create the model object. "
      ]
    },
    {
      "cell_type": "markdown",
      "metadata": {
        "id": "uaLq_L5meY33"
      },
      "source": [
        "Now, print and examine the model coefficients by executing the code in the cell below. "
      ]
    },
    {
      "cell_type": "code",
      "metadata": {
        "colab": {
          "base_uri": "https://localhost:8080/"
        },
        "id": "ViMpUTvaeY33",
        "outputId": "a9a65d60-92a3-4ec6-f865-e58f70f026f5"
      },
      "source": [
        "print(logistic_mod.intercept_)\n",
        "print(logistic_mod.coef_)"
      ],
      "execution_count": null,
      "outputs": [
        {
          "output_type": "stream",
          "text": [
            "[-1.1383239]\n",
            "[[ 0.11620666  0.44400459 -0.02136586 -0.48940088  0.21546203 -0.29720987\n",
            "   0.04800074  0.29152491  0.02855996 -0.00519514  0.25314037 -0.18868966\n",
            "   0.04819412  0.06135947  0.03709501 -0.09264118 -0.15395185  0.03165679\n",
            "  -0.08939643  0.09030793  0.08456949  0.06827135 -0.15808898 -0.16552141\n",
            "   0.15830117 -0.09396579  0.03073665 -0.02124147  0.05832237 -0.14327018\n",
            "   0.13115252  0.2661769   0.19871682  0.26190203 -0.18215011]]\n"
          ],
          "name": "stdout"
        }
      ]
    },
    {
      "cell_type": "markdown",
      "metadata": {
        "id": "uhQNfRU1eY33"
      },
      "source": [
        "First of all, notice that model coefficients look just as they would for an regression model. This is expected as previously explained. Additionally, nearly all the coefficients have the same magnitude indicating this model is likely to be overfit, given the number of features. "
      ]
    },
    {
      "cell_type": "markdown",
      "metadata": {
        "id": "8EhXhToleY33"
      },
      "source": [
        "Recall that the logistic regression model outputs probabilities for each class. The class with the highest probability is taken as the score (prediction). Execute the code and the cell below to compute and display a sample of these class probabilities for the test feature set. "
      ]
    },
    {
      "cell_type": "code",
      "metadata": {
        "colab": {
          "base_uri": "https://localhost:8080/"
        },
        "id": "cE52TM1MeY34",
        "outputId": "5de2c5c8-6f79-495a-c1f6-5ae4b95bb6ff"
      },
      "source": [
        "probabilities = logistic_mod.predict_proba(X_test)\n",
        "print(probabilities[:15,:])"
      ],
      "execution_count": null,
      "outputs": [
        {
          "output_type": "stream",
          "text": [
            "[[0.85159982 0.14840018]\n",
            " [0.39645599 0.60354401]\n",
            " [0.94684351 0.05315649]\n",
            " [0.31315627 0.68684373]\n",
            " [0.53801309 0.46198691]\n",
            " [0.97911241 0.02088759]\n",
            " [0.95504217 0.04495783]\n",
            " [0.6369102  0.3630898 ]\n",
            " [0.8765559  0.1234441 ]\n",
            " [0.93570155 0.06429845]\n",
            " [0.55392566 0.44607434]\n",
            " [0.39755281 0.60244719]\n",
            " [0.4908703  0.5091297 ]\n",
            " [0.64508203 0.35491797]\n",
            " [0.3314766  0.6685234 ]]\n"
          ],
          "name": "stdout"
        }
      ]
    },
    {
      "cell_type": "markdown",
      "metadata": {
        "id": "iuiBjse8eY34"
      },
      "source": [
        "The first column is the probability of a score of $0$ and the second column is the probability of a score of $1$. Notice that for most, but not all cases, the probability of a score of $0$ is higher than $1$. "
      ]
    },
    {
      "cell_type": "markdown",
      "metadata": {
        "id": "Ur8wg-OteY34"
      },
      "source": [
        "## Score and evaluate the classification model\n",
        "\n",
        "Now that the class probabilities have been computed these values must be transformed into actual class scores. Recall that the log likelihoods for two-class logistic regression are computed by applying the sigmoid or logistic transformation to the output of the linear model. The simple choice is to set the threshold between the two likelihoods at $0.5$. The code in the cell below applies this initial threshold to the probability of a score of $0$ for the test data. A few examples along with the known labels are then displayed. Execute this code and examine the result."
      ]
    },
    {
      "cell_type": "code",
      "metadata": {
        "colab": {
          "base_uri": "https://localhost:8080/"
        },
        "id": "CBvQ3HhMeY34",
        "outputId": "c727408f-836f-4737-99ea-9fa434d3a6dd"
      },
      "source": [
        "def score_model(probs, threshold):\n",
        "    return np.array([1 if x > threshold else 0 for x in probs[:,1]])\n",
        "scores = score_model(probabilities, 0.5)\n",
        "print(np.array(scores[:15]))\n",
        "print(y_test[:15])"
      ],
      "execution_count": null,
      "outputs": [
        {
          "output_type": "stream",
          "text": [
            "[0 1 0 1 0 0 0 0 0 0 0 1 1 0 1]\n",
            "[0 0 0 1 0 0 0 0 1 0 0 1 1 0 1]\n"
          ],
          "name": "stdout"
        }
      ]
    },
    {
      "cell_type": "markdown",
      "metadata": {
        "id": "ViV_xDLOeY34"
      },
      "source": [
        "Some of the positive ($1$) predictions agree with the test labels in the second row, but several do not."
      ]
    },
    {
      "cell_type": "markdown",
      "metadata": {
        "id": "TOoKNhtkeY35"
      },
      "source": [
        "Given the results of the test data, how can you quantify the performance of the model? In general, you must **always use multiple metrics to evaluate the performance of any machine leaning model**, including classifiers. \n",
        "\n",
        "For classifiers there are a number of metrics commonly used. The **confusion matrix** lays out the correctly and incorrectly classified cases in a tabular format. There are various metrics derived from the values in the confusion matrix. Some of the common cases are briefly reviewed below. \n",
        "\n",
        "**Confusion matrix**\n",
        "\n",
        "As already stated, the confusion matrix lays out correctly and incorrectly classified cases. For the binary (two-class) case the confusion matrix is organized as follows:\n",
        "\n",
        "| | Scored Positive | Scored Negative|  \n",
        "|------|:------:|:------:| \n",
        "|**Actual Positive** | True Positive | False Negative |\n",
        "|**Actual Negative**| False Positive | True Negative |   \n",
        "\n",
        "Here the four elements in the matrix are defined as:    \n",
        "**True Positive** or **TP** are cases with positive labels which have been correctly classified as positive.     \n",
        "**True Negative** or **TN** are cases with negative labels which have been correctly classified as negative.  \n",
        "**False Positive** or **FP** are cases with negative labels which have been incorrectly classified as positive.   \n",
        "**False Negative** or **FN** are cases with positive labels which have been incorrectly classified as negative.\n",
        "\n",
        "When creating a confusion matrix it is important to understand and maintain a convention for which differentiating positive and negative label values. The usual convention is to call the $1$ case positive and the $0$ case negative. \n",
        "\n",
        "Notice that there is an ambiguity in which case is considered positive and which is considered negative when the confusion matrix is computed. Whenever you examine a confusion matrix it is a good idea to spend a moment and decide which case is which. This step will help you relate the results to the problem at hand. \n",
        "\n",
        "**Accuracy**\n",
        "\n",
        "Accuracy is a simple and often misused metric. In simple terms, accuracy is the fraction of cases correctly classified. For a two-class classifier accuracy is written as:\n",
        "\n",
        "$$Accuracy = \\frac{TP+TN}{TP+FP+TN+FN}$$\n",
        "\n",
        "Accuracy can be quite misleading. For example, say a classifier is used to detect fraudulent accounts and the rate of fraud is less than 1%. A naive model would be to say all accounts are not fraudulent. This model has accuracy exceeding  0.99. This sounds impressive, but is clearly useless. \n",
        "\n",
        "**Precision**\n",
        "\n",
        "Precision is the fraction of correctly classified label cases out of all cases classified with that label value. We can express precision by the following relationship:\n",
        "\n",
        "$$Precision = \\frac{M_{i,i}}{\\sum_j M_{i,j}}$$\n",
        "\n",
        "In other words, the precision statistic is the number of correctly classified cases for the label value divided by all the cases in the column. Thus, precision is sensitive to the number of cases correctly classified for a given score value. \n",
        "\n",
        "**Recall**  \n",
        "\n",
        "Recall is the fraction of cases of a label value correctly classified out of all cases that actually have that label value. We can express recall by the following relationship:\n",
        "\n",
        "$$Recall = \\frac{M_{i,i}}{\\sum_i M_{i,j}}$$\n",
        "\n",
        "In other words, the recall statistic is the number of correctly classified cases for the label value divided by all the cases in the row. Thus, precision is sensitive to the number of cases correctly classified for a given true label value. \n",
        "\n",
        "**F1**\n",
        "\n",
        "The F1 statistic is weighted average of precision and recall. We can express F1 by the following relationship:\n",
        "\n",
        "$$F1 = 2 * \\frac{precision * recall}{precision + recall}$$\n",
        "\n",
        "In other words, F1 is a weighted metric for overall model performance. \n",
        "\n",
        "**ROC** and **AUC**\n",
        "\n",
        "The receiver operating characteristic or ROC is a curve that displays the relationship between the true positive rate on the vertical axis and false positive rate on the horizontal axis. The ROC curve shows the tradeoff between true positive rate and false positive rate. An example is illustrated below.   \n",
        "\n",
        "In principle, you can pick the desired operating point for a classifier on this curve. Towards the left favors low false positive rate at the expense of true positive rate. Towards the right favors high true positive rate at the expense of higher false positive rate.  \n",
        "\n",
        "\n",
        "\n",
        "<img src=\"img/ROC_AUC.JPG\" alt=\"drawing\" width=\"480px\"/>\n",
        "\n",
        "<center>**ROC curve with values of AUC for balanced two-class problem**</center>\n",
        "\n",
        "The AUC is the area or integral under the ROC curve. The overall performance of the classifier is measured by the area under the curve or AUC. But, how can you interpret a specific AUC value? The higher the AUC the lower the increase in false positive rate required to achieve a required true positive rate.  For an ideal classifier the AUC is 1.0. A true positive rate is achieved with a 0 false positive rate. This behavior means that AUC is useful for comparing classifiers. The classifier with higher AUC is generally the better one. \n",
        "\n",
        "For balanced cases, random guessing gives an AUC or 0.5. A balanced case has equal numbers of positive and negative cases. So Bernoulli sampling (random guessing) with a probability $p$ for the positive case, will produce a ROC curve that runs diagonally from $0.0,0.0$ to $1.0,1.0$. The area under this triangular region is 0.5. It is often said that a classifier with an AUC of greater than 0.5 is better than random guessing. But, **for unbalanced cases this statement is not in true in general**. \n",
        "\n",
        "****\n",
        "**Note:** The term receive operating characteristic may seem a bit odd in the machine learning context. This term arose in the early days of radar engineering as a metric to measure the tradeoff between radar signal receiver correctly detecting a target, say an aircraft, and producing a positive response from noise, such as flying birds or clouds. A radar receiver would be adjusted to the desired operating point along its ROC curve. \n",
        "****"
      ]
    },
    {
      "cell_type": "markdown",
      "metadata": {
        "id": "kGgJ-G2deY35"
      },
      "source": [
        "The code in the cell below implements a function that computes and displays the forementioned classifier performance metrics. The code metrics are computed using the `precision_recall_fscore_support` and `accuracy_score` functions from the `metrics` package of scikit-learn. The confusion matrix is computed using the `confusion_matrix` function from this same package. Execute this code and examine the results for the logistic regression model. "
      ]
    },
    {
      "cell_type": "code",
      "metadata": {
        "colab": {
          "base_uri": "https://localhost:8080/"
        },
        "id": "RA0t_WyqeY35",
        "outputId": "24325744-66f2-45e9-d03b-fdb56c2149e8"
      },
      "source": [
        "def print_metrics(labels, scores):\n",
        "    metrics = sklm.precision_recall_fscore_support(labels, scores)\n",
        "    conf = sklm.confusion_matrix(labels, scores)\n",
        "    print('                 Confusion matrix')\n",
        "    print('                 Score positive    Score negative')\n",
        "    print('Actual positive    %6d' % conf[0,0] + '             %5d' % conf[0,1])\n",
        "    print('Actual negative    %6d' % conf[1,0] + '             %5d' % conf[1,1])\n",
        "    print('')\n",
        "    print('Accuracy  %0.2f' % sklm.accuracy_score(labels, scores))\n",
        "    print(' ')\n",
        "    print('           Positive      Negative')\n",
        "    print('Num case   %6d' % metrics[3][0] + '        %6d' % metrics[3][1])\n",
        "    print('Precision  %6.2f' % metrics[0][0] + '        %6.2f' % metrics[0][1])\n",
        "    print('Recall     %6.2f' % metrics[1][0] + '        %6.2f' % metrics[1][1])\n",
        "    print('F1         %6.2f' % metrics[2][0] + '        %6.2f' % metrics[2][1])\n",
        "\n",
        "\n",
        "    \n",
        "print_metrics(y_test, scores)    "
      ],
      "execution_count": null,
      "outputs": [
        {
          "output_type": "stream",
          "text": [
            "                 Confusion matrix\n",
            "                 Score positive    Score negative\n",
            "Actual positive       184                28\n",
            "Actual negative        39                49\n",
            "\n",
            "Accuracy  0.78\n",
            " \n",
            "           Positive      Negative\n",
            "Num case      212            88\n",
            "Precision    0.83          0.64\n",
            "Recall       0.87          0.56\n",
            "F1           0.85          0.59\n"
          ],
          "name": "stdout"
        }
      ]
    },
    {
      "cell_type": "markdown",
      "metadata": {
        "id": "xyjJAzv6eY35"
      },
      "source": [
        "Examine these results:\n",
        "1. The confusion matrix shows the following characteristics; a) most of the positive cases are correctly classified, 182 vs. 30, however, b) may negative cases are are scored incorrectly, with only 49 correct, vs. 39 incorrect.   \n",
        "2. The overall accuracy is 0.77. However as just observed this is **extremely misleading!**. In fact the negative cases are poorly classified, and it is these bad credit customers the bank cares most about. This is not an unusual case. Accuracy figures should always be regarded with healthy skepticism.\n",
        "3. The class imbalance is confirmed. Of the 300 test cases 212 are positive and 88 are negative. \n",
        "4. The precision, recall and F1 all show that positive cases are classified reasonably well, but the negative cases are not. As already mentioned, it is these negative cases that are of greatest importance to the bank. \n",
        "\n",
        "Finally, the code in the cell below computes and displays the ROC curve and AUC. The `roc_curve` and `auc` functions from the scikit-learn `metrics` package are used to compute these values. \n",
        "\n",
        "Execute this code, examine the result, and answer **Question 3** on the course page."
      ]
    },
    {
      "cell_type": "code",
      "metadata": {
        "id": "zP5gfD9reY36",
        "colab": {
          "base_uri": "https://localhost:8080/",
          "height": 295
        },
        "outputId": "d13ff65f-2316-4858-f086-294ccbe99638"
      },
      "source": [
        "def plot_auc(labels, probs):\n",
        "    ## Compute the false positive rate, true positive rate\n",
        "    ## and threshold along with the AUC\n",
        "    fpr, tpr, threshold = sklm.roc_curve(labels, probs[:,1])\n",
        "    auc = sklm.auc(fpr, tpr)\n",
        "    \n",
        "    ## Plot the result\n",
        "    plt.title('Receiver Operating Characteristic')\n",
        "    plt.plot(fpr, tpr, color = 'orange', label = 'AUC = %0.2f' % auc)\n",
        "    plt.legend(loc = 'lower right')\n",
        "    plt.plot([0, 1], [0, 1],'r--')\n",
        "    plt.xlim([0, 1])\n",
        "    plt.ylim([0, 1])\n",
        "    plt.ylabel('True Positive Rate')\n",
        "    plt.xlabel('False Positive Rate')\n",
        "    plt.show()\n",
        "    \n",
        "plot_auc(y_test, probabilities)    "
      ],
      "execution_count": null,
      "outputs": [
        {
          "output_type": "display_data",
          "data": {
            "image/png": "[encoded data removed]",
            "text/plain": [
              "<Figure size 432x288 with 1 Axes>"
            ]
          },
          "metadata": {
            "tags": [],
            "needs_background": "light"
          }
        }
      ]
    },
    {
      "cell_type": "markdown",
      "metadata": {
        "id": "f1O68KfNeY36"
      },
      "source": [
        "The ROC curve is above the diagonal red-dotted line and the AUC is 0.77. But, given the class imbalance of two positive cases for each negative case how good is this? \n",
        "\n",
        "One point of comparison is a naive 'classifier' that sets all cases to positive. The code in the cell below contains such a classifier. This algorithm is not really a classifier at all. This 'classifier' is hard coded. The ROC curve and AUC are then computed and displayed. Run this code, and examine the result. "
      ]
    },
    {
      "cell_type": "code",
      "metadata": {
        "scrolled": false,
        "id": "IlnyiiDfeY36",
        "colab": {
          "base_uri": "https://localhost:8080/",
          "height": 550
        },
        "outputId": "6033c316-3cfc-43b8-bee1-e25519e2a505"
      },
      "source": [
        "probs_positive = np.concatenate((np.ones((probabilities.shape[0], 1)), \n",
        "                                 np.zeros((probabilities.shape[0], 1))),\n",
        "                                 axis = 1)\n",
        "scores_positive = score_model(probs_positive, 0.5)\n",
        "print_metrics(y_test, scores_positive)  \n",
        "plot_auc(y_test, probs_positive) "
      ],
      "execution_count": null,
      "outputs": [
        {
          "output_type": "stream",
          "text": [
            "/usr/local/lib/python3.7/dist-packages/sklearn/metrics/_classification.py:1272: UndefinedMetricWarning: Precision and F-score are ill-defined and being set to 0.0 in labels with no predicted samples. Use `zero_division` parameter to control this behavior.\n",
            "  _warn_prf(average, modifier, msg_start, len(result))\n"
          ],
          "name": "stderr"
        },
        {
          "output_type": "stream",
          "text": [
            "                 Confusion matrix\n",
            "                 Score positive    Score negative\n",
            "Actual positive       212                 0\n",
            "Actual negative        88                 0\n",
            "\n",
            "Accuracy  0.71\n",
            " \n",
            "           Positive      Negative\n",
            "Num case      212            88\n",
            "Precision    0.71          0.00\n",
            "Recall       1.00          0.00\n",
            "F1           0.83          0.00\n"
          ],
          "name": "stdout"
        },
        {
          "output_type": "display_data",
          "data": {
            "image/png": "[encoded data removed]",
            "text/plain": [
              "<Figure size 432x288 with 1 Axes>"
            ]
          },
          "metadata": {
            "tags": [],
            "needs_background": "light"
          }
        }
      ]
    },
    {
      "cell_type": "markdown",
      "metadata": {
        "id": "bTczuombeY36"
      },
      "source": [
        "Notice, the accuracy from this 'classifier' is 0.71. This reflects the class imbalance. The ROC curve is directly along the diagonal which gives an AUC of 0.5. The logistic regression classifier is definitely better than this!"
      ]
    },
    {
      "cell_type": "markdown",
      "metadata": {
        "id": "HnaDTcDBeY36"
      },
      "source": [
        "## Compute a weighted model\n",
        "\n",
        "Recall that a falsely classifying a bad credit risk customer as good costs the bank five times more than classifying a good credit risk customer as bad. Given this situation, the results of the first model are not that good. There are two reasons for this:\n",
        "\n",
        "1. The class imbalance in the label has biased the training of the model. As you observed from the accuracy of the naive 'classifier' is not that different from the logistic regression model. \n",
        "2. Nothing has been done to weight the results toward correctly classifying the bad credit risk customers at the expense of the good credit risk customers.\n",
        "\n",
        "One approach to these problems is to weight the classes when computing the logistic regression model. The code in the cell below adds a `class_weight` argument to the call to the `LogisticRegression` function. In this case weights are chosen as $0.45, 0.55$  but you can also give another combination. Execute this code"
      ]
    },
    {
      "cell_type": "code",
      "metadata": {
        "scrolled": true,
        "id": "Zm7ynf6EeY36",
        "colab": {
          "base_uri": "https://localhost:8080/"
        },
        "outputId": "9a7e379f-dfea-402a-c017-0b46e4c9fbba"
      },
      "source": [
        "logistic_mod = linear_model.LogisticRegression(class_weight = {0:0.60, 1:0.70},max_iter=1000,random_state=1) \n",
        "logistic_mod.fit(X_train, y_train)"
      ],
      "execution_count": null,
      "outputs": [
        {
          "output_type": "execute_result",
          "data": {
            "text/plain": [
              "LogisticRegression(C=1.0, class_weight={0: 0.6, 1: 0.7}, dual=False,\n",
              "                   fit_intercept=True, intercept_scaling=1, l1_ratio=None,\n",
              "                   max_iter=1000, multi_class='auto', n_jobs=None, penalty='l2',\n",
              "                   random_state=1, solver='lbfgs', tol=0.0001, verbose=0,\n",
              "                   warm_start=False)"
            ]
          },
          "metadata": {
            "tags": []
          },
          "execution_count": 55
        }
      ]
    },
    {
      "cell_type": "markdown",
      "metadata": {
        "id": "P0OX6_ZleY37"
      },
      "source": [
        "Next, execute the code in the cell below to compute and display the class probabilities for each case. "
      ]
    },
    {
      "cell_type": "code",
      "metadata": {
        "id": "pf3fSKfWeY37",
        "colab": {
          "base_uri": "https://localhost:8080/"
        },
        "outputId": "91498219-1210-4de7-8b62-b892cad1f206"
      },
      "source": [
        "probabilities = logistic_mod.predict_proba(X_test)\n",
        "print(probabilities[:15,:])"
      ],
      "execution_count": null,
      "outputs": [
        {
          "output_type": "stream",
          "text": [
            "[[0.83176194 0.16823806]\n",
            " [0.35631921 0.64368079]\n",
            " [0.93936604 0.06063396]\n",
            " [0.28821087 0.71178913]\n",
            " [0.50677472 0.49322528]\n",
            " [0.97569325 0.02430675]\n",
            " [0.94898323 0.05101677]\n",
            " [0.60244715 0.39755285]\n",
            " [0.86078424 0.13921576]\n",
            " [0.92478643 0.07521357]\n",
            " [0.51951194 0.48048806]\n",
            " [0.36442934 0.63557066]\n",
            " [0.46138597 0.53861403]\n",
            " [0.61170486 0.38829514]\n",
            " [0.30213328 0.69786672]]\n"
          ],
          "name": "stdout"
        }
      ]
    },
    {
      "cell_type": "markdown",
      "metadata": {
        "id": "zr480JmHeY37"
      },
      "source": [
        "By eyeball, the above probabilities are not terribly different from the unweighted model. "
      ]
    },
    {
      "cell_type": "markdown",
      "metadata": {
        "id": "l1SEJioVeY37"
      },
      "source": [
        "To find if there is any significant difference with the unweighted model, compute the scores and the metrics and display the metrics by executing the code in the cell below. \n",
        "\n",
        "Then, answer **Question 4** on the course page."
      ]
    },
    {
      "cell_type": "code",
      "metadata": {
        "scrolled": false,
        "id": "PiutJqt5eY37",
        "colab": {
          "base_uri": "https://localhost:8080/",
          "height": 497
        },
        "outputId": "63c3d3fe-562d-434e-937e-8f56500cf947"
      },
      "source": [
        "scores = score_model(probabilities, 0.5)\n",
        "print_metrics(y_test, scores)  \n",
        "plot_auc(y_test, probabilities)  "
      ],
      "execution_count": null,
      "outputs": [
        {
          "output_type": "stream",
          "text": [
            "                 Confusion matrix\n",
            "                 Score positive    Score negative\n",
            "Actual positive       178                34\n",
            "Actual negative        36                52\n",
            "\n",
            "Accuracy  0.77\n",
            " \n",
            "           Positive      Negative\n",
            "Num case      212            88\n",
            "Precision    0.83          0.60\n",
            "Recall       0.84          0.59\n",
            "F1           0.84          0.60\n"
          ],
          "name": "stdout"
        },
        {
          "output_type": "display_data",
          "data": {
            "image/png": "[encoded data removed]",
            "text/plain": [
              "<Figure size 432x288 with 1 Axes>"
            ]
          },
          "metadata": {
            "tags": [],
            "needs_background": "light"
          }
        }
      ]
    },
    {
      "cell_type": "markdown",
      "metadata": {
        "id": "I96KhETCeY37"
      },
      "source": [
        "The accuracy is slightly changed with respect to the unweighted model. The change could be more had we give more weights to one of the class than what we did here. The precision, recall and F1 are slightly better for the negative cases. Reweighting the labels has moved the results in the desired direction, at least a bit.\n",
        "\n",
        "Notice also, the ROC curve and AUC are essentially unchanged. The trade-off between true positive and false positive is similar to the unweighted model. "
      ]
    },
    {
      "cell_type": "markdown",
      "metadata": {
        "id": "7XNF--OveY37"
      },
      "source": [
        "## Find a better threshold\n",
        "\n",
        "There is another way to tip the model scoring toward correctly identifying the bad credit cases. The scoring threshold can be adjusted. Until now, the scores have been computed from the probabilities using a threshold of 0.5. However, there is no reason to think this is the correct choice. Recall that the score is  determined by setting the threshold along the sigmoidal or logistic function. It is possible to favor either positive or negative cases by changing the threshold along this curve. \n",
        "\n",
        "The code in the cell below contains a function for scoring and evaluating the model for a given threshold value. The `for` loop iterates over the list of five candidate threshold values. Execute this code and examine how changing the threshold value changes the scoring for the model. "
      ]
    },
    {
      "cell_type": "code",
      "metadata": {
        "id": "j3m2poGWeY38",
        "colab": {
          "base_uri": "https://localhost:8080/"
        },
        "outputId": "fd8556ea-25e3-4b71-abaa-1ba53db6724d"
      },
      "source": [
        "def test_threshold(probs, labels, threshold):\n",
        "    scores = score_model(probs, threshold)\n",
        "    print('')\n",
        "    print('For threshold = ' + str(threshold))\n",
        "    print_metrics(labels, scores)\n",
        "\n",
        "thresholds = [0.45, 0.40, 0.35, 0.3, 0.25]\n",
        "for t in thresholds:\n",
        "    test_threshold(probabilities, y_test, t)"
      ],
      "execution_count": null,
      "outputs": [
        {
          "output_type": "stream",
          "text": [
            "\n",
            "For threshold = 0.45\n",
            "                 Confusion matrix\n",
            "                 Score positive    Score negative\n",
            "Actual positive       170                42\n",
            "Actual negative        30                58\n",
            "\n",
            "Accuracy  0.76\n",
            " \n",
            "           Positive      Negative\n",
            "Num case      212            88\n",
            "Precision    0.85          0.58\n",
            "Recall       0.80          0.66\n",
            "F1           0.83          0.62\n",
            "\n",
            "For threshold = 0.4\n",
            "                 Confusion matrix\n",
            "                 Score positive    Score negative\n",
            "Actual positive       159                53\n",
            "Actual negative        27                61\n",
            "\n",
            "Accuracy  0.73\n",
            " \n",
            "           Positive      Negative\n",
            "Num case      212            88\n",
            "Precision    0.85          0.54\n",
            "Recall       0.75          0.69\n",
            "F1           0.80          0.60\n",
            "\n",
            "For threshold = 0.35\n",
            "                 Confusion matrix\n",
            "                 Score positive    Score negative\n",
            "Actual positive       146                66\n",
            "Actual negative        22                66\n",
            "\n",
            "Accuracy  0.71\n",
            " \n",
            "           Positive      Negative\n",
            "Num case      212            88\n",
            "Precision    0.87          0.50\n",
            "Recall       0.69          0.75\n",
            "F1           0.77          0.60\n",
            "\n",
            "For threshold = 0.3\n",
            "                 Confusion matrix\n",
            "                 Score positive    Score negative\n",
            "Actual positive       136                76\n",
            "Actual negative        19                69\n",
            "\n",
            "Accuracy  0.68\n",
            " \n",
            "           Positive      Negative\n",
            "Num case      212            88\n",
            "Precision    0.88          0.48\n",
            "Recall       0.64          0.78\n",
            "F1           0.74          0.59\n",
            "\n",
            "For threshold = 0.25\n",
            "                 Confusion matrix\n",
            "                 Score positive    Score negative\n",
            "Actual positive       119                93\n",
            "Actual negative        18                70\n",
            "\n",
            "Accuracy  0.63\n",
            " \n",
            "           Positive      Negative\n",
            "Num case      212            88\n",
            "Precision    0.87          0.43\n",
            "Recall       0.56          0.80\n",
            "F1           0.68          0.56\n"
          ],
          "name": "stdout"
        }
      ]
    },
    {
      "cell_type": "markdown",
      "metadata": {
        "id": "nEpsZdBQeY38"
      },
      "source": [
        "As the threshold is decreased the number of correctly classified negative cases (bad credit customers) increases at the expense of correctly classifying positive cases (good credit customers). At the same time, accuracy decreases. However, as you have observed, accuracy is not a particularly useful metric here. \n",
        "\n",
        "Exactly which threshold to pick is a business decision. Notice that with a threshold value of 0.25 the number of false negatives (misclassified good credit customers) is about four times that of false positives (misclassified bad credit customers). "
      ]
    },
    {
      "cell_type": "markdown",
      "metadata": {
        "id": "Z-1FcOvDeY38"
      },
      "source": [
        "## Summary\n",
        "\n",
        "In this lesson you have done the following:\n",
        "1. Prepared the credit risk data set for modeling with scikit-learn. The steps included scaling the numeric features, and dummy variable coding the categorical features. The result is a numpy array of features and a numpy array of the label values. \n",
        "2. Computed a logistic regression model. \n",
        "3. Evaluated the performance of the module using multiple metrics. It is clear that accuracy is not a particularly useful metric here. The naive 'classifier' produced accuracy that was only somewhat worse as a result of the class imbalance.  The confusion matrix and the precision, recall and F1 statistics gave meaningful measures of model performance, especially when considered together. \n",
        "4. Reweighted the labels and changed the decision threshold for the reweighted model. These steps helped overcome both the class imbalance problem and the asymmetric cost of misclassification to the bank. "
      ]
    },
    {
      "cell_type": "code",
      "metadata": {
        "id": "Mf7XhUiLeY38"
      },
      "source": [
        ""
      ],
      "execution_count": null,
      "outputs": []
    }
  ]
}